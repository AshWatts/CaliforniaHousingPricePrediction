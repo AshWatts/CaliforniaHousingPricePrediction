{
 "cells": [
  {
   "cell_type": "markdown",
   "metadata": {},
   "source": [
    "## Understanding the Housing Dataset"
   ]
  },
  {
   "cell_type": "code",
   "execution_count": null,
   "id": "f2a675e8-e478-4f56-8cc0-26350978c126",
   "metadata": {},
   "outputs": [],
   "source": [
    "import pandas as pd\n",
    "import numpy as np\n",
    "import matplotlib.pyplot as plt\n",
    "%matplotlib inline"
   ]
  },
  {
   "cell_type": "code",
   "execution_count": 3,
   "id": "2ee48e3a-38ab-42e2-ae6b-d5cb924f5068",
   "metadata": {},
   "outputs": [],
   "source": [
    "from sklearn.datasets import fetch_california_housing\n",
    "housing = fetch_california_housing()"
   ]
  },
  {
   "cell_type": "code",
   "execution_count": null,
   "id": "59718fd0-652e-4886-876b-50d0677433fa",
   "metadata": {},
   "outputs": [],
   "source": [
    "housing.keys()"
   ]
  },
  {
   "cell_type": "code",
   "execution_count": null,
   "id": "60b8a115-0c0d-4850-9a3c-8a5d22fe27a3",
   "metadata": {},
   "outputs": [],
   "source": [
    "#Description of the dataset\n",
    "print(housing.DESCR)"
   ]
  },
  {
   "cell_type": "code",
   "execution_count": null,
   "id": "74780ccb-5106-437f-b53e-154b20ddd104",
   "metadata": {},
   "outputs": [],
   "source": [
    "housing.data"
   ]
  },
  {
   "cell_type": "code",
   "execution_count": null,
   "id": "b2ba73cc-0c15-4ecb-9602-009698aa87d3",
   "metadata": {},
   "outputs": [],
   "source": [
    "housing.target"
   ]
  },
  {
   "cell_type": "code",
   "execution_count": null,
   "id": "cd0708cb-47be-4a8b-b9c5-59666d799419",
   "metadata": {},
   "outputs": [],
   "source": [
    "housing.feature_names"
   ]
  },
  {
   "cell_type": "code",
   "execution_count": null,
   "id": "be1dfe3b-9fb4-49c1-9fe8-5d07097ff22e",
   "metadata": {},
   "outputs": [],
   "source": [
    "housing.target_names"
   ]
  },
  {
   "cell_type": "markdown",
   "id": "46f80f53-dc98-49b1-b1d6-ff280b7c1b07",
   "metadata": {},
   "source": [
    "## Preparing the Dataset"
   ]
  },
  {
   "cell_type": "code",
   "execution_count": 11,
   "id": "908cedd6-e9fe-4784-9f05-6e37686e4142",
   "metadata": {},
   "outputs": [],
   "source": [
    "dataset = pd.DataFrame(housing.data)"
   ]
  },
  {
   "cell_type": "code",
   "execution_count": 12,
   "id": "057a7fed-867b-4bbf-a03a-27b0299a78f2",
   "metadata": {},
   "outputs": [],
   "source": [
    "dataset.columns = ['MedInc', 'HouseAge', 'AveRooms', 'AveBedrms', 'Population', 'AveOccup', 'Latitude', 'Longitude']"
   ]
  },
  {
   "cell_type": "code",
   "execution_count": 13,
   "id": "1fb13928-4485-40b2-b273-aec528829315",
   "metadata": {},
   "outputs": [],
   "source": [
    "df = dataset.copy()"
   ]
  },
  {
   "cell_type": "code",
   "execution_count": null,
   "id": "3c767146-9c43-4570-be90-7f58e45ea8b8",
   "metadata": {},
   "outputs": [],
   "source": [
    "df.head()"
   ]
  },
  {
   "cell_type": "code",
   "execution_count": 15,
   "id": "480d8da9-3faf-4dd5-bb95-8b183ebbf985",
   "metadata": {},
   "outputs": [],
   "source": [
    "df['Price'] = housing.target"
   ]
  },
  {
   "cell_type": "code",
   "execution_count": null,
   "id": "f43f1ff9-6e73-4b76-a7b0-7726bfd13e57",
   "metadata": {},
   "outputs": [],
   "source": [
    "df.head()"
   ]
  },
  {
   "cell_type": "code",
   "execution_count": null,
   "id": "0034e5ca-a02a-4bb0-9e3c-b0a5305357ad",
   "metadata": {},
   "outputs": [],
   "source": [
    "df.info()"
   ]
  },
  {
   "cell_type": "code",
   "execution_count": null,
   "id": "af0b695a-5594-4479-bac7-1752309a77d0",
   "metadata": {},
   "outputs": [],
   "source": [
    "#Analysis of Data\n",
    "df.describe()"
   ]
  },
  {
   "cell_type": "code",
   "execution_count": null,
   "id": "d87448be-cb80-4668-974d-1b327b423795",
   "metadata": {},
   "outputs": [],
   "source": [
    "#Finding Null Values\n",
    "df.isnull().sum()"
   ]
  },
  {
   "cell_type": "markdown",
   "id": "b30795d2-4837-48d4-933f-d10ee57822ef",
   "metadata": {},
   "source": [
    "## Exploratory Data Analysis"
   ]
  },
  {
   "cell_type": "code",
   "execution_count": null,
   "id": "f86f809f-546d-4e7a-9f44-e75e882c7b48",
   "metadata": {},
   "outputs": [],
   "source": [
    "df.corr()"
   ]
  },
  {
   "cell_type": "code",
   "execution_count": 22,
   "id": "98b1b48f-0494-47d6-9869-4a55173f2ca6",
   "metadata": {},
   "outputs": [],
   "source": [
    "# DO NOT RUN (very heavy)\n",
    "\n",
    "# import seaborn as sns\n",
    "# sns.pairplot(dataset)"
   ]
  },
  {
   "cell_type": "markdown",
   "id": "5eaceaea-b832-4968-8d7b-d15171e7afe5",
   "metadata": {},
   "source": [
    "## Analyzing The Correlated Features"
   ]
  },
  {
   "cell_type": "code",
   "execution_count": null,
   "id": "7120733d-5b8f-433f-81cc-1b8f7bee2f67",
   "metadata": {},
   "outputs": [],
   "source": [
    "# Positive Correlation\n",
    "\n",
    "import seaborn as sns\n",
    "sns.regplot(x=\"MedInc\", y=\"Price\", data=df)"
   ]
  },
  {
   "cell_type": "code",
   "execution_count": null,
   "id": "d3a6b7bf-3f19-4afc-a9f3-532c33fd77dc",
   "metadata": {},
   "outputs": [],
   "source": [
    "# Negative Correlation\n",
    "\n",
    "import seaborn as sns\n",
    "sns.regplot(x=\"Population\", y=\"Price\", data=df)"
   ]
  },
  {
   "cell_type": "code",
   "execution_count": null,
   "id": "912aee57-10d8-401e-98ce-d526d30ff98d",
   "metadata": {},
   "outputs": [],
   "source": [
    "# No Correlation\n",
    "\n",
    "import seaborn as sns\n",
    "sns.regplot(x=\"Latitude\", y=\"Price\", data=df)"
   ]
  },
  {
   "cell_type": "markdown",
   "id": "ad21a78a-2de2-43d0-ae4c-e9c6ebadb296",
   "metadata": {},
   "source": [
    "## Splitting features into Independant and Dependant Category"
   ]
  },
  {
   "cell_type": "code",
   "execution_count": 28,
   "id": "76437562-fd4c-41ff-b0b4-7684f21e2c20",
   "metadata": {},
   "outputs": [],
   "source": [
    "# x - Dependant, y - Independant\n",
    "\n",
    "x = df.iloc[:, :-1]\n",
    "y = df.iloc[:, -1]"
   ]
  },
  {
   "cell_type": "code",
   "execution_count": null,
   "id": "e2a4f348-9c2c-4374-8e9c-e4bcdce282bd",
   "metadata": {},
   "outputs": [],
   "source": [
    "x.head()"
   ]
  },
  {
   "cell_type": "code",
   "execution_count": null,
   "id": "048eebcb-85e1-4dc0-8bc9-3df887985d01",
   "metadata": {},
   "outputs": [],
   "source": [
    "y.head()"
   ]
  },
  {
   "cell_type": "code",
   "execution_count": 31,
   "id": "2c88c976-4b4f-4331-8978-76010b6812aa",
   "metadata": {},
   "outputs": [],
   "source": [
    "# Training Test Split\n",
    "\n",
    "from sklearn.model_selection import train_test_split\n",
    "x_train, x_test, y_train, y_test = train_test_split(x, y, test_size = 0.3, random_state = 49)"
   ]
  },
  {
   "cell_type": "code",
   "execution_count": null,
   "id": "9cf18d1b-6848-4613-a347-0bc3edab002c",
   "metadata": {},
   "outputs": [],
   "source": [
    "x_train.head()"
   ]
  },
  {
   "cell_type": "code",
   "execution_count": null,
   "id": "890cc157-7027-4b8e-8998-6fc81f6162b0",
   "metadata": {},
   "outputs": [],
   "source": [
    "x_test.head()"
   ]
  },
  {
   "cell_type": "code",
   "execution_count": null,
   "id": "e1424bc6-df41-4346-a11b-6b305fe2de5f",
   "metadata": {},
   "outputs": [],
   "source": [
    "y_train.head()"
   ]
  },
  {
   "cell_type": "code",
   "execution_count": null,
   "id": "d4c3e8cf-ba22-4e4c-a4be-382112a96cce",
   "metadata": {},
   "outputs": [],
   "source": [
    "y_test.head()"
   ]
  },
  {
   "cell_type": "markdown",
   "id": "b8616a11-4169-44ca-b4a6-3b2aeb2ec76e",
   "metadata": {},
   "source": [
    "## Standardizing the Dataset"
   ]
  },
  {
   "cell_type": "code",
   "execution_count": 37,
   "id": "def0efb3-aaa9-46d2-a4e2-b599b6bfb293",
   "metadata": {},
   "outputs": [],
   "source": [
    "from sklearn.preprocessing import StandardScaler\n",
    "scaler = StandardScaler()"
   ]
  },
  {
   "cell_type": "code",
   "execution_count": 38,
   "id": "519148d1-a5d4-4c35-af08-654a534d5770",
   "metadata": {},
   "outputs": [],
   "source": [
    "x_train=scaler.fit_transform(x_train)\n",
    "x_test=scaler.transform(x_test)"
   ]
  },
  {
   "cell_type": "code",
   "execution_count": 39,
   "id": "472350f3-0876-4a94-9e0e-df73945e42ea",
   "metadata": {},
   "outputs": [],
   "source": [
    "import pickle\n",
    "pickle.dump(scaler, open('scaling.pkl','wb'))"
   ]
  },
  {
   "cell_type": "code",
   "execution_count": null,
   "id": "f94e459b-675e-4c63-9769-0727d30a9914",
   "metadata": {},
   "outputs": [],
   "source": [
    "x_train"
   ]
  },
  {
   "cell_type": "code",
   "execution_count": null,
   "id": "073e3555-ec62-4239-94a8-7b682f72b8e9",
   "metadata": {},
   "outputs": [],
   "source": [
    "x_test"
   ]
  },
  {
   "cell_type": "markdown",
   "id": "41c86afd-db17-4927-afe5-1f5b817f9c55",
   "metadata": {},
   "source": [
    "## Model Training"
   ]
  },
  {
   "cell_type": "code",
   "execution_count": 43,
   "id": "b825e097-aa5d-469e-af7e-bfa105c39602",
   "metadata": {},
   "outputs": [],
   "source": [
    "from sklearn.linear_model import LinearRegression\n",
    "regression = LinearRegression()"
   ]
  },
  {
   "cell_type": "code",
   "execution_count": null,
   "id": "8cdaed3a-7bc9-4a25-8486-a2187b82e778",
   "metadata": {},
   "outputs": [],
   "source": [
    "regression.fit(x_train, y_train)"
   ]
  },
  {
   "cell_type": "code",
   "execution_count": null,
   "id": "bf285dd9-54bd-4d93-a1e1-722afb82e89d",
   "metadata": {},
   "outputs": [],
   "source": [
    "regression.coef_"
   ]
  },
  {
   "cell_type": "code",
   "execution_count": null,
   "id": "cb890a9c-3a63-4bd2-9880-8aad05a1fe63",
   "metadata": {},
   "outputs": [],
   "source": [
    "regression.intercept_"
   ]
  },
  {
   "cell_type": "code",
   "execution_count": null,
   "id": "6075dad7-206a-485f-9135-04a9f7663495",
   "metadata": {},
   "outputs": [],
   "source": [
    "# Parameters that the model has been trained\n",
    "regression.get_params()"
   ]
  },
  {
   "cell_type": "code",
   "execution_count": 48,
   "id": "e51d4bee-3602-4ec5-92cb-958de6f62d65",
   "metadata": {},
   "outputs": [],
   "source": [
    "# Prediction with Test Data\n",
    "reg_pred = regression.predict(x_test) "
   ]
  },
  {
   "cell_type": "code",
   "execution_count": null,
   "id": "ce849800-7ecc-4b93-87c4-ab84362fa8f1",
   "metadata": {},
   "outputs": [],
   "source": [
    "reg_pred"
   ]
  },
  {
   "cell_type": "markdown",
   "id": "407a6f89-50be-4155-9884-7f243c196461",
   "metadata": {},
   "source": [
    "## Assumptions"
   ]
  },
  {
   "cell_type": "code",
   "execution_count": null,
   "id": "8dac9c7a-bf49-428f-9f8d-7770c13d8d9b",
   "metadata": {},
   "outputs": [],
   "source": [
    "# Scatter Plot for Prediction\n",
    "plt.scatter(y_test, reg_pred)"
   ]
  },
  {
   "cell_type": "code",
   "execution_count": 52,
   "id": "58797da3-f029-480c-a3a4-333bf20f1ceb",
   "metadata": {},
   "outputs": [],
   "source": [
    "# Residual(error)\n",
    "residuals = y_test - reg_pred"
   ]
  },
  {
   "cell_type": "code",
   "execution_count": null,
   "id": "311e8a8b-b4ec-4611-b47a-253473d2c6de",
   "metadata": {},
   "outputs": [],
   "source": [
    "residuals"
   ]
  },
  {
   "cell_type": "code",
   "execution_count": null,
   "id": "47d2eb42-7e2c-4764-aa83-93ee9e9673ac",
   "metadata": {},
   "outputs": [],
   "source": [
    "## Plot this residuals \n",
    "sns.displot(residuals, kind=\"kde\")"
   ]
  },
  {
   "cell_type": "code",
   "execution_count": null,
   "id": "8c92be33-2224-4432-abc6-d26bf4a13268",
   "metadata": {},
   "outputs": [],
   "source": [
    "# Scatter plot wrt prediction and residuals\n",
    "plt.scatter(reg_pred, residuals)"
   ]
  },
  {
   "cell_type": "code",
   "execution_count": null,
   "id": "a41365a2-a7c3-4e35-a2ff-cabb24703483",
   "metadata": {},
   "outputs": [],
   "source": [
    "from sklearn.metrics import mean_squared_error\n",
    "from sklearn.metrics import mean_absolute_error\n",
    "\n",
    "print(mean_absolute_error(y_test, reg_pred))\n",
    "\n",
    "print(mean_squared_error(y_test, reg_pred))"
   ]
  },
  {
   "cell_type": "markdown",
   "id": "69babda1-183a-4905-acc4-f0e978c29e43",
   "metadata": {},
   "source": [
    "## R Square and Adjusted R Square"
   ]
  },
  {
   "cell_type": "code",
   "execution_count": null,
   "id": "36c929a4-55e3-4b70-a6eb-ac0142e80b65",
   "metadata": {},
   "outputs": [],
   "source": [
    "from sklearn.metrics import r2_score\n",
    "score = r2_score(y_test, reg_pred)\n",
    "score"
   ]
  },
  {
   "cell_type": "code",
   "execution_count": null,
   "id": "c5f7adc8-cc45-48f6-a2a6-f19c415122ff",
   "metadata": {},
   "outputs": [],
   "source": [
    "adjusted_r2 = 1 - ((1 - score) * (len(y_test) - 1)) / (len(y_test) - x_test.shape[1] - 1)\n",
    "adjusted_r2"
   ]
  },
  {
   "cell_type": "markdown",
   "id": "315083d7-1d1f-4885-9c37-229721146dff",
   "metadata": {},
   "source": [
    "## New Data Prediction"
   ]
  },
  {
   "cell_type": "code",
   "execution_count": null,
   "id": "13eb7684-bf17-4e01-9256-d9500bc14136",
   "metadata": {},
   "outputs": [],
   "source": [
    "housing.data[0].reshape(1, -1)"
   ]
  },
  {
   "cell_type": "code",
   "execution_count": null,
   "id": "ee78a1b7-1299-43d8-b06d-11d639f086a3",
   "metadata": {},
   "outputs": [],
   "source": [
    "# Transformation of New Data\n",
    "Transformed_New_Data = scaler.transform(housing.data[0].reshape(1, -1))"
   ]
  },
  {
   "cell_type": "code",
   "execution_count": null,
   "id": "4d1e1f97-0777-4266-9e0a-5dc64d170b71",
   "metadata": {},
   "outputs": [],
   "source": [
    "regression.predict(Transformed_New_Data)"
   ]
  },
  {
   "cell_type": "code",
   "execution_count": null,
   "id": "4eae7d52-35aa-42b2-9ca5-7b4faaae7e28",
   "metadata": {},
   "outputs": [],
   "source": [
    "y.head()"
   ]
  },
  {
   "cell_type": "markdown",
   "id": "62a5e200-973a-4153-8b72-9012dabe5309",
   "metadata": {},
   "source": [
    "## Pickling the Model for Deployment"
   ]
  },
  {
   "cell_type": "code",
   "execution_count": 66,
   "id": "99eae4a8-b366-427e-824c-d3a24d52f842",
   "metadata": {},
   "outputs": [],
   "source": [
    "import pickle\n",
    "pickle.dump(regression, open('regmodel.pkl','wb'))"
   ]
  },
  {
   "cell_type": "code",
   "execution_count": 67,
   "id": "db0e2034-9f0d-4cc2-8c63-9e3b814c69ae",
   "metadata": {},
   "outputs": [],
   "source": [
    "pickle_model = pickle.load(open('regmodel.pkl', 'rb'))"
   ]
  },
  {
   "cell_type": "code",
   "execution_count": null,
   "id": "5d4406bf-1b94-4883-b545-67e5133b4dde",
   "metadata": {},
   "outputs": [],
   "source": [
    "# Prediction\n",
    "pickle_model.predict(Transformed_New_Data)"
   ]
  }
 ],
 "metadata": {
  "kernelspec": {
   "display_name": "Python 3",
   "language": "python",
   "name": "python3"
  },
  "language_info": {
   "codemirror_mode": {
    "name": "ipython",
    "version": 3
   },
   "file_extension": ".py",
   "mimetype": "text/x-python",
   "name": "python",
   "nbconvert_exporter": "python",
   "pygments_lexer": "ipython3",
   "version": "3.7.16"
  }
 },
 "nbformat": 4,
 "nbformat_minor": 5
}
